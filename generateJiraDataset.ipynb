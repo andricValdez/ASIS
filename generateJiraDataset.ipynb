{
 "cells": [
  {
   "cell_type": "code",
   "execution_count": 2,
   "metadata": {},
   "outputs": [],
   "source": [
    "import csv\n",
    "import pandas as pd\n",
    "import numpy as np\n"
   ]
  },
  {
   "cell_type": "markdown",
   "metadata": {},
   "source": []
  },
  {
   "cell_type": "markdown",
   "metadata": {},
   "source": [
    "# Generate Jira Dataset"
   ]
  },
  {
   "cell_type": "code",
   "execution_count": 5,
   "metadata": {
    "scrolled": true
   },
   "outputs": [
    {
     "name": "stdout",
     "output_type": "stream",
     "text": [
      "(5888, 3)\n",
      "0     66.083560\n",
      "1     19.921875\n",
      "-1    13.994565\n",
      "Name: Label, dtype: float64\n"
     ]
    }
   ],
   "source": [
    "def emotionToSentiment():    \n",
    "    group1 = ['Document1', 'Document2', 'Document3', 'Document4', 'Document5', 'Document6', 'Document7', 'Document8', \n",
    "              'Document9', 'Document10', 'Document11', 'Document12', 'Document13', 'Document14', 'Document15', 'Document16']\n",
    "\n",
    "    group2 = ['emoiton_1', 'emoiton_2', 'emoiton_3']\n",
    "\n",
    "    group3 = ['SentenceWithEmotion_TRAINING_ANGER', \n",
    "              'SentenceWithEmotion_TRAINING_JOY', \n",
    "              'SentenceWithEmotion_TRAINING_LOVE',\n",
    "              'SentenceWithEmotion_TRAINING_SADNESS']\n",
    "\n",
    "    groups = {\n",
    "                '1': group1, \n",
    "                '2': group2, \n",
    "                '3': group3\n",
    "            }\n",
    "\n",
    "    ids = [] \n",
    "    d = {}\n",
    "\n",
    "    for key, gr in groups.items():\n",
    "        for doc in gr:\n",
    "            row = pd.read_csv('Datasets/GroupsJiraDataset/group' + key + '/' + doc + '.csv', encoding = \"ISO-8859-1\", engine='python')\n",
    "            #print(row.shape)\n",
    "            for k, r in row.iterrows():\n",
    "                comKey = 'comment N'\n",
    "                if 'comment' in row.columns.values:\n",
    "                    comKey = 'comment' \n",
    "\n",
    "                s = {'love': str(r['love']), 'joy': str(r['joy']), 'surprise': str(r['surprise']), 'anger': str(r['anger']), 'sadness': str(r['sadness']), 'fear': str(r['fear'])}\n",
    "\n",
    "                if str(r[comKey]) == 'nan':\n",
    "                    continue\n",
    "\n",
    "                if str(r['id']) in ids:\n",
    "                    d[str(r['id'])]['Label'].append(s)\n",
    "                    continue\n",
    "                else:\n",
    "                    d[str(r['id'])] = {'Sentence': str(r[comKey]), 'Label': [s], 'group': key}\n",
    "\n",
    "                ids.append(str(r['id']))\n",
    "\n",
    "    emoSurprise = []\n",
    "    for key, row in d.items():\n",
    "        emo = {'love': 0, 'joy': 0, 'surprise': 0, 'anger': 0, 'sadness': 0, 'fear': 0}\n",
    "        for value in row['Label']:\n",
    "            if value['love'] == 'x':\n",
    "                emo['love'] += 1\n",
    "            if value['joy'] == 'x':\n",
    "                emo['joy'] += 1\n",
    "            if value['surprise'] == 'x':\n",
    "                emo['surprise'] += 1\n",
    "            if value['anger'] == 'x':\n",
    "                emo['anger'] += 1\n",
    "            if value['sadness'] == 'x':\n",
    "                emo['sadness'] += 1\n",
    "            if value['fear'] == 'x':\n",
    "                emo['fear'] += 1\n",
    "\n",
    "        pos = emo['love']  + emo['joy']\n",
    "        neg = emo['anger'] + emo['sadness'] + emo['fear']\n",
    "        emot = max(emo, key=emo.get)\n",
    "        sent = '0'\n",
    "\n",
    "        if pos > neg and ((pos != 1) or row['group'] == '3'):\n",
    "            sent = '1'\n",
    "        if neg > pos and ((neg != 1) or row['group'] == '3'):\n",
    "            sent = '-1'\n",
    "        if emo['surprise'] > 0 and sent == '0':\n",
    "            emoSurprise.append(key)\n",
    "\n",
    "        d[key]['Label'] = sent    \n",
    "        #print(key, 'g'+row['group'], emo['love'], emo['joy'], emo['surprise'], emo['anger'], emo['sadness'], emo['fear'], '-->', sent)\n",
    "\n",
    "    for i in emoSurprise:\n",
    "        del d[i]\n",
    "\n",
    "    #print(len(emoSurprise))\n",
    "    datasetJira = pd.DataFrame(d).transpose() \n",
    "    print(datasetJira.shape)\n",
    "    print(datasetJira['Label'].value_counts('1')*100)\n",
    "    datasetJira.head()           \n",
    "\n",
    "    \n",
    "emotionToSentiment()  "
   ]
  },
  {
   "cell_type": "code",
   "execution_count": 193,
   "metadata": {},
   "outputs": [],
   "source": [
    "# Save dataset\n",
    "datasetJira.to_csv('Datasets/datasetJIRA.csv', encoding='utf-8', header=True, index=False)\n"
   ]
  },
  {
   "cell_type": "code",
   "execution_count": null,
   "metadata": {},
   "outputs": [],
   "source": []
  },
  {
   "cell_type": "code",
   "execution_count": null,
   "metadata": {},
   "outputs": [],
   "source": []
  }
 ],
 "metadata": {
  "kernelspec": {
   "display_name": "Python 3",
   "language": "python",
   "name": "python3"
  },
  "language_info": {
   "codemirror_mode": {
    "name": "ipython",
    "version": 3
   },
   "file_extension": ".py",
   "mimetype": "text/x-python",
   "name": "python",
   "nbconvert_exporter": "python",
   "pygments_lexer": "ipython3",
   "version": "3.7.3"
  }
 },
 "nbformat": 4,
 "nbformat_minor": 2
}
